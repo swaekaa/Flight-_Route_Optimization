{
 "cells": [
  {
   "cell_type": "code",
   "execution_count": 1,
   "id": "ae87710a",
   "metadata": {},
   "outputs": [],
   "source": [
    "import torch\n",
    "import torch.nn.functional as F\n",
    "from torch_geometric.nn import GCNConv\n",
    "from torch_geometric.data import Data\n",
    "import pandas as pd\n",
    "import networkx as nx\n",
    "import folium\n",
    "from math import radians, sin, cos, sqrt, atan2"
   ]
  },
  {
   "cell_type": "code",
   "execution_count": 2,
   "id": "6d1b660c",
   "metadata": {},
   "outputs": [],
   "source": [
    "airports_df = pd.read_csv(\"airports.dat\", header=None)\n",
    "routes_df = pd.read_csv(\"routes.dat\", header=None)"
   ]
  },
  {
   "cell_type": "code",
   "execution_count": 3,
   "id": "5618ea55",
   "metadata": {},
   "outputs": [],
   "source": [
    "airports_df.columns = ['ID', 'Name', 'City', 'Country', 'IATA', 'ICAO', 'Latitude', 'Longitude',\n",
    "                       'Altitude', 'Timezone', 'DST', 'Tz database time zone', 'Type', 'Source']\n",
    "routes_df.columns = ['Airline', 'Airline ID', 'Source Airport', 'Source Airport ID',\n",
    "                     'Destination Airport', 'Destination Airport ID', 'Codeshare',\n",
    "                     'Stops', 'Equipment']"
   ]
  },
  {
   "cell_type": "code",
   "execution_count": 4,
   "id": "932799b8",
   "metadata": {},
   "outputs": [],
   "source": [
    "airports_df = airports_df[airports_df['IATA'].apply(lambda x: isinstance(x, str) and len(x) == 3)]\n",
    "airport_to_idx = {code: i for i, code in enumerate(airports_df['IATA'])}\n",
    "idx_to_airport = {i: code for code, i in airport_to_idx.items()}"
   ]
  },
  {
   "cell_type": "code",
   "execution_count": 5,
   "id": "c40f5972",
   "metadata": {},
   "outputs": [],
   "source": [
    "def haversine(coord1, coord2):\n",
    "    R = 6371  # Earth radius in km\n",
    "    lat1, lon1 = map(radians, coord1)\n",
    "    lat2, lon2 = map(radians, coord2)\n",
    "    dlat = lat2 - lat1\n",
    "    dlon = lon2 - lon1\n",
    "    a = sin(dlat/2)**2 + cos(lat1)*cos(lat2)*sin(dlon/2)**2\n",
    "    return R * (2 * atan2(sqrt(a), sqrt(1 - a)))"
   ]
  },
  {
   "cell_type": "code",
   "execution_count": 6,
   "id": "ac484c39",
   "metadata": {},
   "outputs": [],
   "source": [
    "edges = []\n",
    "weights = []\n",
    "for _, row in routes_df.iterrows():\n",
    "    src, dst = row[\"Source Airport\"], row[\"Destination Airport\"]\n",
    "    if src in airport_to_idx and dst in airport_to_idx:\n",
    "        i, j = airport_to_idx[src], airport_to_idx[dst]\n",
    "        src_info = airports_df[airports_df[\"IATA\"] == src].iloc[0]\n",
    "        dst_info = airports_df[airports_df[\"IATA\"] == dst].iloc[0]\n",
    "        d = haversine((src_info[\"Latitude\"], src_info[\"Longitude\"]),\n",
    "                      (dst_info[\"Latitude\"], dst_info[\"Longitude\"]))\n",
    "        edges.append([i, j])\n",
    "        weights.append(d)"
   ]
  },
  {
   "cell_type": "code",
   "execution_count": 7,
   "id": "5cbccc1b",
   "metadata": {},
   "outputs": [],
   "source": [
    "edge_index = torch.tensor(edges, dtype=torch.long).t().contiguous()\n",
    "edge_weight = torch.tensor(weights, dtype=torch.float)\n",
    "\n",
    "# Step 6: Create node features\n",
    "features = torch.tensor(airports_df[[\"Latitude\", \"Longitude\"]].values, dtype=torch.float)\n",
    "num_nodes = features.shape[0]"
   ]
  },
  {
   "cell_type": "code",
   "execution_count": 8,
   "id": "ca5e693f",
   "metadata": {},
   "outputs": [],
   "source": [
    "class GCN(torch.nn.Module):\n",
    "    def __init__(self, in_channels, hidden_channels, out_channels):\n",
    "        super().__init__()\n",
    "        self.conv1 = GCNConv(in_channels, hidden_channels)\n",
    "        self.conv2 = GCNConv(hidden_channels, out_channels)\n",
    "\n",
    "    def forward(self, data):\n",
    "        x, edge_index, edge_weight = data.x, data.edge_index, data.edge_weight\n",
    "        x = self.conv1(x, edge_index, edge_weight=edge_weight)\n",
    "        x = F.relu(x)\n",
    "        x = self.conv2(x, edge_index, edge_weight=edge_weight)\n",
    "        return x"
   ]
  },
  {
   "cell_type": "code",
   "execution_count": 9,
   "id": "b006b320",
   "metadata": {},
   "outputs": [],
   "source": [
    "\n",
    "data = Data(x=features, edge_index=edge_index, edge_weight=edge_weight)\n"
   ]
  },
  {
   "cell_type": "code",
   "execution_count": 10,
   "id": "b37bef62",
   "metadata": {},
   "outputs": [],
   "source": [
    "model = GCN(in_channels=2, hidden_channels=16, out_channels=2)\n",
    "\n",
    "# Train the model\n",
    "optimizer = torch.optim.Adam(model.parameters(), lr=0.01)\n",
    "model.train()\n",
    "for epoch in range(100):\n",
    "    optimizer.zero_grad()\n",
    "    out = model(data)\n",
    "    loss = F.mse_loss(out, features[:, :2])  # Now shapes match: [num_nodes, 2]\n",
    "    loss.backward()\n",
    "    optimizer.step()"
   ]
  },
  {
   "cell_type": "code",
   "execution_count": 11,
   "id": "f81b92cd",
   "metadata": {},
   "outputs": [],
   "source": [
    "embeddings = model(data).detach().numpy()\n",
    "G = nx.Graph()\n",
    "for i, emb in enumerate(embeddings):\n",
    "    G.add_node(i)"
   ]
  },
  {
   "cell_type": "code",
   "execution_count": 12,
   "id": "6f6fd016",
   "metadata": {},
   "outputs": [],
   "source": [
    "for i in range(edge_index.shape[1]):\n",
    "    src, dst = edge_index[0, i].item(), edge_index[1, i].item()\n",
    "    G.add_edge(src, dst, weight=edge_weight[i].item())"
   ]
  },
  {
   "cell_type": "code",
   "execution_count": 13,
   "id": "84dd5431",
   "metadata": {},
   "outputs": [],
   "source": [
    "src_code = \"RPR\"  # Raipur\n",
    "dst_code = \"LAX\"  # Los Angeles"
   ]
  },
  {
   "cell_type": "code",
   "execution_count": 14,
   "id": "5a217e2b",
   "metadata": {},
   "outputs": [],
   "source": [
    "src_idx = airport_to_idx.get(src_code)\n",
    "dst_idx = airport_to_idx.get(dst_code)"
   ]
  },
  {
   "cell_type": "code",
   "execution_count": 15,
   "id": "1651b879",
   "metadata": {},
   "outputs": [
    {
     "name": "stdout",
     "output_type": "stream",
     "text": [
      "✅ GNN Path: ['RPR', 'CCU', 'KMG', 'PEK', 'LAX']\n",
      "🗺️ Map saved as 'gnn_path_map.html'\n"
     ]
    }
   ],
   "source": [
    "if src_idx is not None and dst_idx is not None:\n",
    "    try:\n",
    "        path = nx.dijkstra_path(G, source=src_idx, target=dst_idx, weight=\"weight\")\n",
    "        path_iata = [idx_to_airport[i] for i in path]\n",
    "        print(\"✅ GNN Path:\", path_iata)\n",
    "\n",
    "        # Step 12: Show path on Folium map\n",
    "        m = folium.Map(location=[20.5937, 78.9629], zoom_start=3)\n",
    "        coords = []\n",
    "        for node in path:\n",
    "            airport = airports_df[airports_df[\"IATA\"] == idx_to_airport[node]].iloc[0]\n",
    "            lat, lon = airport[\"Latitude\"], airport[\"Longitude\"]\n",
    "            coords.append((lat, lon))\n",
    "            folium.Marker([lat, lon], tooltip=airport[\"IATA\"]).add_to(m)\n",
    "\n",
    "        folium.PolyLine(coords, color=\"blue\", weight=3).add_to(m)\n",
    "        m.save(\"gnn_path_map.html\")\n",
    "        print(\"🗺️ Map saved as 'gnn_path_map.html'\")\n",
    "    except nx.NetworkXNoPath:\n",
    "        print(\"❌ No path found by GNN\")\n",
    "else:\n",
    "    print(\"❌ Invalid IATA codes.\")"
   ]
  },
  {
   "cell_type": "code",
   "execution_count": 16,
   "id": "2c59176f",
   "metadata": {},
   "outputs": [],
   "source": [
    "import networkx as nx\n",
    "\n",
    "def shortest_path_via_gnn(G, src_idx, dst_idx, idx_to_airport, max_stops=3, allowed_airlines=None):\n",
    "    \"\"\"\n",
    "    Compute the shortest path using GNN-modified graph based on allowed airlines and max stops.\n",
    "    \"\"\"\n",
    "    if allowed_airlines:\n",
    "        allowed_airlines = set(a.strip().upper() for a in allowed_airlines)\n",
    "\n",
    "    # Create filtered graph\n",
    "    H = nx.DiGraph()\n",
    "\n",
    "    for u, v, attr in G.edges(data=True):\n",
    "        airline = attr.get(\"airline\", \"\").upper()\n",
    "        if allowed_airlines and airline not in allowed_airlines:\n",
    "            continue\n",
    "        H.add_edge(u, v, weight=attr[\"weight\"], airline=airline)\n",
    "\n",
    "    try:\n",
    "        # All paths up to max_stops (i.e., max_stops + 1 airports)\n",
    "        all_paths = list(nx.all_simple_paths(H, source=src_idx, target=dst_idx, cutoff=max_stops + 1))\n",
    "        if not all_paths:\n",
    "            raise nx.NetworkXNoPath(f\"No path found within {max_stops} stops.\")\n",
    "\n",
    "        # Select path with minimum total weight\n",
    "        best_path = min(all_paths, key=lambda path: sum(H[u][v][\"weight\"] for u, v in zip(path[:-1], path[1:])))\n",
    "        return best_path\n",
    "\n",
    "    except nx.NetworkXNoPath:\n",
    "        raise Exception(f\"No path found from {idx_to_airport[src_idx]} to {idx_to_airport[dst_idx]} within {max_stops} stops.\")\n"
   ]
  },
  {
   "cell_type": "code",
   "execution_count": 17,
   "id": "d1499ef0",
   "metadata": {},
   "outputs": [
    {
     "data": {
      "application/vnd.jupyter.widget-view+json": {
       "model_id": "c9eb2a5aca384252bdc9a2d2360ec844",
       "version_major": 2,
       "version_minor": 0
      },
      "text/plain": [
       "VBox(children=(Dropdown(description='Source:', options=('AAE', 'AAL', 'AAN', 'AAQ', 'AAR', 'AAT', 'AAX', 'AAY'…"
      ]
     },
     "metadata": {},
     "output_type": "display_data"
    }
   ],
   "source": [
    "import ipywidgets as widgets\n",
    "from IPython.display import display, clear_output\n",
    "import folium\n",
    "\n",
    "# Dropdowns\n",
    "airport_options = sorted([iata for iata in airport_to_idx if isinstance(iata, str) and len(iata) == 3])\n",
    "\n",
    "used_nodes = set(sum([[u, v] for u, v in G.edges()], []))\n",
    "airport_options = sorted([\n",
    "    idx_to_airport[i] for i in used_nodes\n",
    "    if i in idx_to_airport and isinstance(idx_to_airport[i], str)\n",
    "])\n",
    "\n",
    "src_widget = widgets.Dropdown(options=airport_options, description='Source:')\n",
    "dst_widget = widgets.Dropdown(options=airport_options, description='Destination:')\n",
    "\n",
    "# Max stops\n",
    "max_stops_slider = widgets.IntSlider(value=1, min=0, max=5, step=1, description='Max Stops:')\n",
    "\n",
    "# Airline filter\n",
    "airline_textbox = widgets.Text(value='', placeholder='e.g. AA,BA,LH', description='Allowed Airlines:')\n",
    "\n",
    "# Run button\n",
    "run_button = widgets.Button(description='Find Route', button_style='success')\n",
    "\n",
    "# Output display\n",
    "output = widgets.Output()\n",
    "\n",
    "# Button click handler\n",
    "def on_run_button_click(b):\n",
    "    with output:\n",
    "        clear_output()\n",
    "\n",
    "        src_airport = src_widget.value\n",
    "        dst_airport = dst_widget.value\n",
    "        max_stops = max_stops_slider.value\n",
    "        allowed_airlines = [a.strip().upper() for a in airline_textbox.value.split(',') if a.strip()]\n",
    "\n",
    "        if src_airport == dst_airport:\n",
    "            print(\"⚠️ Source and destination cannot be the same.\")\n",
    "            return\n",
    "\n",
    "        try:\n",
    "            path = shortest_path_via_gnn(G, airport_to_idx[src_airport], airport_to_idx[dst_airport],\n",
    "                                         idx_to_airport, max_stops=max_stops, allowed_airlines=allowed_airlines)\n",
    "\n",
    "            print(\"✅ Optimized Path (IATA):\", [idx_to_airport[i] for i in path])\n",
    "\n",
    "            # Plot map\n",
    "            m = folium.Map(location=[0, 0], zoom_start=2)\n",
    "            coords = []\n",
    "            for i in path:\n",
    "                row = airports_df[airports_df['IATA'] == idx_to_airport[i]]\n",
    "                if not row.empty:\n",
    "                    lat, lon = row.iloc[0]['Latitude'], row.iloc[0]['Longitude']\n",
    "                    coords.append((lat, lon))\n",
    "                    folium.Marker(location=(lat, lon), popup=idx_to_airport[i]).add_to(m)\n",
    "\n",
    "            folium.PolyLine(locations=coords, color='blue').add_to(m)\n",
    "            display(m)\n",
    "\n",
    "        except Exception as e:\n",
    "            print(f\"❌ Error: {e}\")\n",
    "\n",
    "# Link button to function\n",
    "run_button.on_click(on_run_button_click)\n",
    "\n",
    "# Show UI\n",
    "ui = widgets.VBox([src_widget, dst_widget, max_stops_slider, airline_textbox, run_button, output])\n",
    "display(ui)\n"
   ]
  },
  {
   "cell_type": "code",
   "execution_count": null,
   "id": "021c6579",
   "metadata": {},
   "outputs": [],
   "source": []
  }
 ],
 "metadata": {
  "kernelspec": {
   "display_name": "Python 3",
   "language": "python",
   "name": "python3"
  },
  "language_info": {
   "codemirror_mode": {
    "name": "ipython",
    "version": 3
   },
   "file_extension": ".py",
   "mimetype": "text/x-python",
   "name": "python",
   "nbconvert_exporter": "python",
   "pygments_lexer": "ipython3",
   "version": "3.11.5"
  }
 },
 "nbformat": 4,
 "nbformat_minor": 5
}
